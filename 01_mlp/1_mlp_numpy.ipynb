{
 "cells": [
  {
   "cell_type": "markdown",
   "metadata": {
    "deletable": false,
    "editable": false,
    "nbgrader": {
     "cell_type": "markdown",
     "checksum": "4aaf54b3b3c20bc499f0e3dfb86278c8",
     "grade": false,
     "grade_id": "cell-87195ccb7e06731c",
     "locked": true,
     "schema_version": 3,
     "solution": false
    }
   },
   "source": [
    "<div class=\"alert alert-block alert-info\">\n",
    "<b>Deadline:</b> March 9, 2022 (Wednesday) 23:00\n",
    "</div>\n",
    "\n",
    "# Exercise 1. Train a multilayer perceptron (MLP) network in numpy.\n",
    "\n",
    "In this exercise, we implement training of a multilayer perceptron network using the `numpy` library.\n",
    "* We implement forward and backward computations required for computing the gradients with backpropagation.\n",
    "* We train an MLP on a toy data set.\n",
    "\n",
    "We will implement an MLP with two hidden layers like shown in this figure:\n",
    "\n",
    "<img src=\"mlp.png\" width=300 style=\"float: top;\">\n",
    "\n",
    "We will build the following computational graph:\n",
    "\n",
    "<img src=\"mlp_compgraph.png\" width=600 style=\"float: top;\">\n",
    "\n",
    "Note that the computational graph contains a mean-squared error (MSE) loss because we solve a regression problem.\n",
    "\n",
    "Recall what we discussed in the lecture:\n",
    "\n",
    "<img src=\"backprop_software.png\" width=800 style=\"float: top;\">"
   ]
  },
  {
   "cell_type": "code",
   "execution_count": 1,
   "metadata": {
    "deletable": false,
    "editable": false,
    "nbgrader": {
     "cell_type": "code",
     "checksum": "dc7ed69dbca98d71bcd8f763e643f6a7",
     "grade": false,
     "grade_id": "cell-cafdead5e95c3773",
     "locked": true,
     "schema_version": 3,
     "solution": false
    }
   },
   "outputs": [],
   "source": [
    "import pickle\n",
    "import numpy as np\n",
    "import matplotlib.pyplot as plt\n",
    "\n",
    "%matplotlib inline"
   ]
  },
  {
   "cell_type": "code",
   "execution_count": 4,
   "metadata": {},
   "outputs": [],
   "source": [
    "skip_training = True  # Set this flag to True before validation and submission"
   ]
  },
  {
   "cell_type": "code",
   "execution_count": 5,
   "metadata": {
    "deletable": false,
    "editable": false,
    "nbgrader": {
     "cell_type": "code",
     "checksum": "fe00604c3ac013b22df1df7f9c7f175c",
     "grade": true,
     "grade_id": "evaluation_settings",
     "locked": true,
     "points": 0,
     "schema_version": 3,
     "solution": false,
     "task": false
    }
   },
   "outputs": [],
   "source": [
    "# During grading, this cell sets skip_training to True\n",
    "# skip_training = True"
   ]
  },
  {
   "cell_type": "markdown",
   "metadata": {
    "deletable": false,
    "editable": false,
    "nbgrader": {
     "cell_type": "markdown",
     "checksum": "5d86acc1148120d049457fdc7439961d",
     "grade": false,
     "grade_id": "cell-1b57af4f7c548374",
     "locked": true,
     "schema_version": 3,
     "solution": false,
     "task": false
    }
   },
   "source": [
    "## 1. Gradient of the loss\n",
    "\n",
    "We start by implementing the last block of the computational graph which is the mean-squared error loss:\n",
    "$$\n",
    "c = \\frac{1}{N} \\sum_{i=1}^N (y_i - t_i)^2\n",
    "$$\n",
    "where $y_i$ are the elements of an input vector $\\mathbf{y}$ and $t_i$ are the elements of the target vector $\\mathbf{t}$.\n",
    "\n",
    "In the code below, we define a class that performs forward and backward computations of this loss function. Your task is to implement the `backward` function which should compute the gradient $\\frac{\\partial c}{\\partial \\mathbf{y}}$.\n",
    "\n",
    "Note that we process all $N$ training examples at the same time. Therefore, our implementation operates with two-dimensional arrays of shape `(n_samples, some_size)` where `n_samples` is the number $N$ of training samples and `some_size` is the size of an intermediate vector produced inside the MLP (e.g., the number of neurons in a hidden layer)."
   ]
  },
  {
   "cell_type": "code",
   "execution_count": 6,
   "metadata": {
    "deletable": false,
    "nbgrader": {
     "cell_type": "code",
     "checksum": "9559a39ad6bbb19c80e6001054fae18d",
     "grade": false,
     "grade_id": "MSELoss",
     "locked": false,
     "schema_version": 3,
     "solution": true,
     "task": false
    }
   },
   "outputs": [],
   "source": [
    "class MSELoss:\n",
    "    def forward(self, y, target):\n",
    "        \"\"\"\n",
    "        Args:\n",
    "          y of shape (n_samples, ysize): Inputs of the loss function (can be, e.g., an output of a neural network).\n",
    "          target of shape (n_samples, ysize): Targets.\n",
    "        \n",
    "        Returns:\n",
    "          loss (float): The loss value.\n",
    "        \"\"\"\n",
    "        self.diff = diff = y - target  # Keep this for backward computations\n",
    "        c = np.sum(np.square(diff)) / diff.size\n",
    "        return c\n",
    "\n",
    "    def backward(self):\n",
    "        \"\"\"\n",
    "        Returns:\n",
    "          dy of shape (n_samples, ysize): Gradient of the MSE loss wrt the inputs.\n",
    "        \"\"\"\n",
    "        assert hasattr(self, 'diff'), \"Need to call forward() first\"\n",
    "        # YOUR CODE HERE\n",
    "        dc = 2 * (self.diff)/self.diff.size\n",
    "        return dc"
   ]
  },
  {
   "cell_type": "code",
   "execution_count": 7,
   "metadata": {
    "deletable": false,
    "editable": false,
    "nbgrader": {
     "cell_type": "code",
     "checksum": "b193d7a9befef960baae9a6809382fba",
     "grade": false,
     "grade_id": "cell-ea0f3206867f3d16",
     "locked": true,
     "schema_version": 3,
     "solution": false,
     "task": false
    }
   },
   "outputs": [
    {
     "name": "stdout",
     "output_type": "stream",
     "text": [
      "Success\n"
     ]
    }
   ],
   "source": [
    "def test_MSELoss_shapes():\n",
    "    y = np.random.randn(3)\n",
    "    target = np.zeros(3)  # Dummy target\n",
    "    loss = MSELoss()  # Create the loss\n",
    "    loss_value = loss.forward(y, target)  # Do forward computations\n",
    "    dy = loss.backward()  # Do backward computations\n",
    "    assert dy.shape == y.shape, f\"Bad dy.shape: {dy.shape}\"\n",
    "    print('Success')\n",
    "\n",
    "test_MSELoss_shapes()"
   ]
  },
  {
   "cell_type": "markdown",
   "metadata": {
    "deletable": false,
    "editable": false,
    "nbgrader": {
     "cell_type": "markdown",
     "checksum": "50b49f6bef0d311048eb9019ffb4e770",
     "grade": false,
     "grade_id": "cell-c1c40dfe278fb3c7",
     "locked": true,
     "schema_version": 3,
     "solution": false,
     "task": false
    }
   },
   "source": [
    "We can test our implementation by comparing the results of our backward computations with a [numerical estimate](https://en.wikipedia.org/wiki/Numerical_differentiation) of the gradient: Suppose we have function \n",
    "$f(\\mathbf{x})$ of a vector input $\\mathbf{x}$, then the gradient can be estimated numerically at a (randomly chosen) input $\\mathbf{x}$ by\n",
    "$$ \\nabla f(\\mathbf{x}) \\approx \\frac{f(\\mathbf{x} + \\epsilon) - f(\\mathbf{x} - \\epsilon)}{2\\epsilon}$$\n",
    "using small $\\epsilon$. Note that the numerical gradient is an approximation of the analytical one and therefore there will be a small numerical difference between them.\n",
    "\n",
    "The function that we import in the cell below implements numerical computations of the gradient of a given function."
   ]
  },
  {
   "cell_type": "code",
   "execution_count": 8,
   "metadata": {
    "deletable": false,
    "editable": false,
    "nbgrader": {
     "cell_type": "code",
     "checksum": "bdf411c2a8dd9bb465f4c00c7352cc27",
     "grade": false,
     "grade_id": "cell-2561d9e518b3b4bd",
     "locked": true,
     "schema_version": 3,
     "solution": false,
     "task": false
    }
   },
   "outputs": [],
   "source": [
    "from tests import numerical_gradient"
   ]
  },
  {
   "cell_type": "code",
   "execution_count": 9,
   "metadata": {
    "deletable": false,
    "editable": false,
    "nbgrader": {
     "cell_type": "code",
     "checksum": "a8824a44edc5561f43ce33c8e2a9c29f",
     "grade": false,
     "grade_id": "cell-ee82c925fae51626",
     "locked": true,
     "schema_version": 3,
     "solution": false,
     "task": false
    }
   },
   "outputs": [
    {
     "name": "stdout",
     "output_type": "stream",
     "text": [
      "Analytical gradient:\n",
      " [ 0.16895609 -0.08425975  0.45972128]\n",
      "Numerical gradient:\n",
      " [ 0.16895609 -0.08425975  0.45972128]\n",
      "Success\n"
     ]
    }
   ],
   "source": [
    "# We now compare our analytical computations of the gradient with its numerical estimate\n",
    "def test_MSELoss_backward():\n",
    "    y = np.random.randn(3)\n",
    "    target = np.zeros(3)  # Dummy target\n",
    "    loss = MSELoss()  # Create the loss\n",
    "    loss_value = loss.forward(y, target)  # Do forward computations\n",
    "\n",
    "    dy = loss.backward()\n",
    "    print('Analytical gradient:\\n', dy)\n",
    "    dy_num = numerical_gradient(lambda y: loss.forward(y, target), y)\n",
    "    print('Numerical gradient:\\n', dy_num[0])\n",
    "    assert np.allclose(dy, dy_num), 'Analytical and numerical results differ'\n",
    "    print('Success')\n",
    "\n",
    "test_MSELoss_backward()"
   ]
  },
  {
   "cell_type": "code",
   "execution_count": 10,
   "metadata": {
    "deletable": false,
    "editable": false,
    "nbgrader": {
     "cell_type": "code",
     "checksum": "9a24dff52a0e9e23c15ebd791e6e6605",
     "grade": true,
     "grade_id": "cell-c8af99b85700fd63",
     "locked": true,
     "points": 0,
     "schema_version": 3,
     "solution": false,
     "task": false
    }
   },
   "outputs": [],
   "source": [
    "# This cell tests MSELoss"
   ]
  },
  {
   "cell_type": "markdown",
   "metadata": {
    "deletable": false,
    "editable": false,
    "nbgrader": {
     "cell_type": "markdown",
     "checksum": "0d33f0fd41d4e3918c600dfe8f788fad",
     "grade": false,
     "grade_id": "cell-b71f50dda717743d",
     "locked": true,
     "schema_version": 3,
     "solution": false
    }
   },
   "source": [
    "## 2. Linear layer\n",
    "\n",
    "Next we implement a linear layer.\n",
    "\n",
    "The forward computations of the linear layer are\n",
    "$$\n",
    "\\mathbf{y} = \\mathbf{W} \\mathbf{x} + \\mathbf{b}.\n",
    "$$\n",
    "\n",
    "In the backward pass, the linear layer receives the gradients wrt to the outputs $\\frac{\\partial c}{\\partial \\mathbf{y}}$ and it needs to compute:\n",
    "* the gradients wrt the layer parameters $\\mathbf{W}$ and $\\mathbf{b}$\n",
    "* the gradient $\\frac{\\partial c}{\\partial \\mathbf{x}}$ wrt the inputs.\n",
    "\n",
    "In the cell below, we define a class that resembles class [`nn.Linear`](https://pytorch.org/docs/stable/generated/torch.nn.Linear.html?highlight=nn%20linear#torch.nn.Linear) of pytorch. It calls functions `linear_forward` and `linear_backward` that implement the forward and backward computations. We implmented it this way because it makes it easier to test `linear_forward` and `linear_backward`."
   ]
  },
  {
   "cell_type": "code",
   "execution_count": 11,
   "metadata": {
    "deletable": false,
    "editable": false,
    "nbgrader": {
     "cell_type": "code",
     "checksum": "0bdd46219dbec7e976c3d9b2a1d5e2b1",
     "grade": false,
     "grade_id": "cell-422a5f3dad7faf7b",
     "locked": true,
     "schema_version": 3,
     "solution": false,
     "task": false
    }
   },
   "outputs": [],
   "source": [
    "class Linear:\n",
    "    def __init__(self, in_features, out_features):\n",
    "        \"\"\"\n",
    "        Args:\n",
    "          in_features (int): Number of input features which should be equal to xsize.\n",
    "          out_features (out): Number of output features which should be equal to ysize.\n",
    "        \"\"\"\n",
    "        self.in_features = in_features\n",
    "        self.out_features = out_features\n",
    "        \n",
    "        # Initialize the weights\n",
    "        bound = 3 / np.sqrt(in_features)\n",
    "        self.W = np.random.uniform(-bound, bound, (out_features, in_features))\n",
    "        bound = 1 / np.sqrt(in_features)\n",
    "        self.b = np.random.uniform(-bound, bound, out_features)\n",
    "\n",
    "        self.grad_W = None  # Attribute to store the gradients wrt W\n",
    "        self.grad_b = None  # Attribute to store the gradients wrt b\n",
    "\n",
    "    def forward(self, x):\n",
    "        \"\"\"\n",
    "        Args:\n",
    "          x of shape (n_samples, xsize): Inputs.\n",
    "        \n",
    "        Returns:\n",
    "          y of shape (n_samples, ysize): Outputs.\n",
    "        \"\"\"\n",
    "        self.x = x  # Keep this for backward computations\n",
    "        return linear_forward(x, self.W, self.b)\n",
    "\n",
    "    def backward(self, dy):\n",
    "        \"\"\"\n",
    "        Args:\n",
    "          dy of shape (n_samples, ysize): Gradient of a loss wrt outputs.\n",
    "        \n",
    "        Returns:\n",
    "          dx of shape (n_samples, xsize): Gradient of a loss wrt inputs.\n",
    "        \"\"\"\n",
    "        assert hasattr(self, 'x'), \"Need to call forward() first\"\n",
    "        assert dy.ndim == 2 and dy.shape[1] == self.W.shape[0]\n",
    "        dx, self.grad_W, self.grad_b = linear_backward(dy, self.x, self.W, self.b)\n",
    "        return dx"
   ]
  },
  {
   "cell_type": "markdown",
   "metadata": {
    "deletable": false,
    "editable": false,
    "nbgrader": {
     "cell_type": "markdown",
     "checksum": "52c10d9d190c43559fe2ed272ac34dbb",
     "grade": false,
     "grade_id": "cell-c7ec54dadaa14e7b",
     "locked": true,
     "schema_version": 3,
     "solution": false,
     "task": false
    }
   },
   "source": [
    "Your task is to implement `linear_forward` and `linear_backward`."
   ]
  },
  {
   "cell_type": "code",
   "execution_count": 12,
   "metadata": {
    "deletable": false,
    "nbgrader": {
     "cell_type": "code",
     "checksum": "f5a7030d9d61bd468bddbe83c6ae3c36",
     "grade": false,
     "grade_id": "cell-92fa2567f6455189",
     "locked": false,
     "schema_version": 3,
     "solution": true,
     "task": false
    }
   },
   "outputs": [],
   "source": [
    "def linear_forward(x, W, b):\n",
    "    \"\"\"Forward computations in the linear layer:\n",
    "        y = W x + b\n",
    "\n",
    "    Args:\n",
    "      x of shape (n_samples, xsize): Inputs.\n",
    "      W of shape (ysize, xsize): Weight matrix.\n",
    "      b of shape (ysize,): Bias term.\n",
    "\n",
    "    Returns:\n",
    "      y of shape (n_samples, ysize): Outputs.\n",
    "    \"\"\"\n",
    "    # YOUR CODE HERE\n",
    "    return x.dot(W.T) + b\n",
    "\n",
    "    \n",
    "def linear_backward(dy, x, W, b):\n",
    "    \"\"\"Backward computations in the linear layer.\n",
    "\n",
    "    Args:\n",
    "      dy of shape (n_samples, ysize): Gradient of a loss wrt outputs.\n",
    "      x of shape (n_samples, xsize): Inputs.\n",
    "      W of shape (ysize, xsize): Weight matrix.\n",
    "      b of shape (ysize,): Bias term.\n",
    "\n",
    "    Returns:\n",
    "      dx of shape (n_samples, xsize): Gradient of a loss wrt inputs.\n",
    "      dW of shape (ysize, xsize): Gradient wrt weight matrix W.\n",
    "      db of shape (ysize,): Gradient wrt bias term b.\n",
    "    \"\"\"\n",
    "    assert dy.ndim == 2 and dy.shape[1] == W.shape[0]\n",
    "    # YOUR CODE HERE\n",
    "    dx = dy.dot(W)\n",
    "    #print(dy.shape, x.shape)\n",
    "    dW = dy.T.dot(x)\n",
    "    db = np.sum(dy, axis=0, keepdims=True)\n",
    "    db = db.squeeze()\n",
    "    return dx, dW, db"
   ]
  },
  {
   "cell_type": "code",
   "execution_count": 13,
   "metadata": {
    "deletable": false,
    "editable": false,
    "nbgrader": {
     "cell_type": "code",
     "checksum": "4e75506b30da32b7fa723a95c25a7b7c",
     "grade": false,
     "grade_id": "cell-7d17ae70e7b767ae",
     "locked": true,
     "schema_version": 3,
     "solution": false,
     "task": false
    }
   },
   "outputs": [
    {
     "name": "stdout",
     "output_type": "stream",
     "text": [
      "Success\n"
     ]
    }
   ],
   "source": [
    "# We test the shapes of the outputs\n",
    "def test_linear_shapes():\n",
    "    n_samples = 4\n",
    "    x = np.random.randn(n_samples, 2)\n",
    "    W = np.random.randn(3, 2)\n",
    "    b = np.random.randn(3)\n",
    "\n",
    "    # Test shapes\n",
    "    y = linear_forward(x, W, b)\n",
    "    dy = np.arange(n_samples * 3).reshape((n_samples, 3))\n",
    "    dx, dW, db = linear_backward(dy, x, W, b)\n",
    "    assert dx.shape == x.shape, f\"Bad dx.shape={dx.shape}, x.shape={x.shape}\"\n",
    "    assert dW.shape == W.shape, f\"Bad dW.shape={dW.shape}, W.shape={W.shape}\"\n",
    "    assert db.shape == b.shape, f\"Bad db.shape={db.shape}, b.shape={b.shape}\"\n",
    "\n",
    "    print('Success')\n",
    "\n",
    "test_linear_shapes()"
   ]
  },
  {
   "cell_type": "markdown",
   "metadata": {
    "deletable": false,
    "editable": false,
    "nbgrader": {
     "cell_type": "markdown",
     "checksum": "0675e30663ed9f4668cac970c31694ca",
     "grade": false,
     "grade_id": "cell-1f307ba68557823b",
     "locked": true,
     "schema_version": 3,
     "solution": false,
     "task": false
    }
   },
   "source": [
    "We can again test the backward computations by numerical differentiation.\n",
    "\n",
    "Note that function `numerical_gradient` imported above accepts functions `fun` that works only with *one-dimensional arrays* as inputs and outputs.\n",
    "\n",
    "Suppose we have function `fun(X)` which accepts a two-dimensional array `X` of shape `(n1, n2)` as input and produces a one-dimensional array `y` of shape `(ny,)` as output. We want to compute partial derivatives\n",
    "`d y[i] / d X[k,l]` for each output element `y[i]` and each element `X[k,l]` of the input matrix. We can to it in the following way.\n",
    "\n",
    "First, we define a function with one-dimensional inputs such that it can be passed to our `numerical_gradient`\n",
    "function. Function `fun2` reshapes a one-dimensional array passed to it and calls function `fun`:\n",
    "```\n",
    "fun2 = lambda A: fun(A.reshape(n1, n2))\n",
    "```\n",
    "\n",
    "Then we can call the `numerical_gradient` function:\n",
    "```\n",
    "A = np.random.randn(n1, n2)\n",
    "dA = numerical_gradient(fun2, A.flatten())\n",
    "```\n",
    "which will produce a two dimensional array of shape `(ny, n1*n2)` that will contain the required partial\n",
    "derivatives.\n"
   ]
  },
  {
   "cell_type": "code",
   "execution_count": 14,
   "metadata": {
    "deletable": false,
    "editable": false,
    "nbgrader": {
     "cell_type": "code",
     "checksum": "5ab42cdea4b6b41dd2fe8cb46a1d873c",
     "grade": false,
     "grade_id": "cell-00b350d6c7ada8e3",
     "locked": true,
     "schema_version": 3,
     "solution": false,
     "task": false
    }
   },
   "outputs": [
    {
     "name": "stdout",
     "output_type": "stream",
     "text": [
      "Analytical gradient:\n",
      " [[  4.99089483 -22.12614351]\n",
      " [  8.6228021  -23.92818882]\n",
      " [ 12.25470938 -25.73023413]]\n",
      "Numerical gradient:\n",
      " [[  4.99089483 -22.12614351]\n",
      " [  8.6228021  -23.92818882]\n",
      " [ 12.25470938 -25.73023413]]\n",
      "Success\n"
     ]
    }
   ],
   "source": [
    "# We test the backward computations of d/dW by numerical differentiation\n",
    "def test_linear_numerically():\n",
    "    n_samples = 4\n",
    "    x = np.random.randn(n_samples, 2)\n",
    "    W = np.random.randn(3, 2)\n",
    "    b = np.random.randn(3)\n",
    "\n",
    "    y = linear_forward(x, W, b)\n",
    "    dy = np.arange(n_samples * 3).reshape((n_samples, 3))\n",
    "    dx, dW, db = linear_backward(dy, x, W, b)\n",
    "\n",
    "    print('Analytical gradient:\\n', dW)\n",
    "    dW_num = numerical_gradient(lambda W: linear_forward(x, W.reshape(3, 2), b).flatten(), W.flatten())\n",
    "    dW_num = dW_num.reshape(y.shape + W.shape)\n",
    "    expected = (dy[:, :, None, None] * dW_num).sum(axis=(0,1))\n",
    "    print('Numerical gradient:\\n', expected)\n",
    "    assert np.allclose(dW, expected), 'Analytical and numerical results differ'\n",
    "    print('Success')\n",
    "\n",
    "test_linear_numerically()"
   ]
  },
  {
   "cell_type": "markdown",
   "metadata": {
    "deletable": false,
    "editable": false,
    "nbgrader": {
     "cell_type": "markdown",
     "checksum": "4137e6ce36250cf8abafae53b40c87c7",
     "grade": false,
     "grade_id": "cell-91d19db375ecd0d5",
     "locked": true,
     "schema_version": 3,
     "solution": false,
     "task": false
    }
   },
   "source": [
    "We recommend you to compare analytical and numerical computations of the gradients also wrt input `x` and bias term `b`."
   ]
  },
  {
   "cell_type": "code",
   "execution_count": 15,
   "metadata": {
    "deletable": false,
    "editable": false,
    "nbgrader": {
     "cell_type": "code",
     "checksum": "7bd9775725d04e74cef35241eb570f99",
     "grade": true,
     "grade_id": "linear_batch_Wb",
     "locked": true,
     "points": 1,
     "schema_version": 3,
     "solution": false,
     "task": false
    }
   },
   "outputs": [],
   "source": [
    "# This cell tests linear_forward and linear_backward"
   ]
  },
  {
   "cell_type": "code",
   "execution_count": 16,
   "metadata": {
    "deletable": false,
    "editable": false,
    "nbgrader": {
     "cell_type": "code",
     "checksum": "a77743a622413602365f3d776e550013",
     "grade": true,
     "grade_id": "cell-6bad54818463363a",
     "locked": true,
     "points": 0.5,
     "schema_version": 3,
     "solution": false,
     "task": false
    }
   },
   "outputs": [],
   "source": [
    "# This cell tests linear_forward and linear_backward"
   ]
  },
  {
   "cell_type": "code",
   "execution_count": 17,
   "metadata": {
    "deletable": false,
    "editable": false,
    "nbgrader": {
     "cell_type": "code",
     "checksum": "1316dccf770021830b55f35740560574",
     "grade": true,
     "grade_id": "linear_batch_x",
     "locked": true,
     "points": 1,
     "schema_version": 3,
     "solution": false,
     "task": false
    }
   },
   "outputs": [],
   "source": [
    "# This cell tests linear_forward and linear_backward"
   ]
  },
  {
   "cell_type": "markdown",
   "metadata": {
    "deletable": false,
    "editable": false,
    "nbgrader": {
     "cell_type": "markdown",
     "checksum": "c0e0dbbc7008220c348ff24e28fc9785",
     "grade": false,
     "grade_id": "cell-f6dc372ec175c898",
     "locked": true,
     "schema_version": 3,
     "solution": false,
     "task": false
    }
   },
   "source": [
    "## 3. The Tanh activation function\n",
    "\n",
    "Next we implement the Tanh activation function. The activation function is applied *element-wise* to input vector $\\mathbf{x}$ to produce outputs $\\mathbf{y}$:\n",
    "$$\n",
    "\\mathbf{y} = \\text{tanh}(\\mathbf{x}) \\quad \\text{such that} \\quad y_i = \\text{tanh}(x_i).\n",
    "$$\n",
    "\n",
    "When we backpropagate through that block, we need to transform the gradients $\\frac{\\partial c}{\\partial \\mathbf{y}}$ wrt to the outputs into the gradients wrt the inputs $\\frac{\\partial c}{\\partial \\mathbf{x}}$. Your task is to implement the forward and backward computations.\n",
    "\n",
    "Notes:\n",
    "* We recommend you to compare analytical and numerical computations of the gradient.\n",
    "* If you use function `numerical_gradient` to differentiate numerically `Tanh.forward()` using a one-dimensional array `x` as input, the output of `numerical_gradient` is a two-dimensional array (Jacobian matrix). We are interested only in the diagonal elements of that array because the nonlinearity is applied *element-wise*."
   ]
  },
  {
   "cell_type": "code",
   "execution_count": 22,
   "metadata": {
    "deletable": false,
    "nbgrader": {
     "cell_type": "code",
     "checksum": "c45bf7f2f9ffc7216a2484471e5344c8",
     "grade": false,
     "grade_id": "cell-15a2ce86bee8cd17",
     "locked": false,
     "schema_version": 3,
     "solution": true,
     "task": false
    }
   },
   "outputs": [],
   "source": [
    "class Tanh:\n",
    "    def forward(self, x):\n",
    "        \"\"\"\n",
    "        Args:\n",
    "          x of shape (n_features,): Inputs.\n",
    "        \n",
    "        Returns:\n",
    "          y of shape (n_features,): Outputs.\n",
    "        \"\"\"\n",
    "        # YOUR CODE HERE\n",
    "        self.x = np.tanh(x)\n",
    "        return self.x\n",
    "\n",
    "    def backward(self, dy):\n",
    "        \"\"\"\n",
    "        Args:\n",
    "          dy of shape (n_features,): Gradient of a loss wrt outputs.\n",
    "        \n",
    "        Returns:\n",
    "          dx of shape (n_features,): Gradient of a loss wrt inputs.\n",
    "        \"\"\"\n",
    "        assert hasattr(self, 'x'), \"Need to call forward() first.\"\n",
    "        # YOUR CODE HERE\n",
    "        d_tanh = 1.0 - self.x**2\n",
    "        return dy * d_tanh "
   ]
  },
  {
   "cell_type": "code",
   "execution_count": 23,
   "metadata": {
    "deletable": false,
    "editable": false,
    "nbgrader": {
     "cell_type": "code",
     "checksum": "79d03a6c844168fa1c36d7b63b4ad33a",
     "grade": false,
     "grade_id": "cell-a2624334df2e830f",
     "locked": true,
     "schema_version": 3,
     "solution": false,
     "task": false
    }
   },
   "outputs": [
    {
     "name": "stdout",
     "output_type": "stream",
     "text": [
      "Success\n"
     ]
    }
   ],
   "source": [
    "def test_Tanh_shapes():\n",
    "    x = np.random.randn(3)\n",
    "    act_fn = Tanh()\n",
    "    y = act_fn.forward(x)\n",
    "    dy = np.arange(1, 4)\n",
    "    dx = act_fn.backward(dy)\n",
    "    assert dx.shape == x.shape, f\"Bad dx.shape: {dx.shape}\"\n",
    "    print('Success')\n",
    "\n",
    "test_Tanh_shapes()"
   ]
  },
  {
   "cell_type": "markdown",
   "metadata": {
    "deletable": false,
    "editable": false,
    "nbgrader": {
     "cell_type": "markdown",
     "checksum": "7f3e52bc9f308d8c95157d35a24ba623",
     "grade": false,
     "grade_id": "cell-15e28241c83862b3",
     "locked": true,
     "schema_version": 3,
     "solution": false
    }
   },
   "source": [
    "## 4. Multilayer Perceptron (MLP)\n",
    "\n",
    "In the cell below, you need to implement an MLP with two hidden layers and `Tanh` nonlinearity. Use instances of classes `Linear` and `Tanh` in your implementation.\n",
    "\n",
    "Note:\n",
    "* For testing purposes, the instances of `Linear` and `Tanh` classes should be attributes of class `MLP` such as attribute `fc1` in the example below:\n",
    "```\n",
    "    def __init__(self, in_features, hidden_size1, hidden_size2, out_features):\n",
    "        self.fc1 = Linear(...)\n",
    "```"
   ]
  },
  {
   "cell_type": "code",
   "execution_count": 24,
   "metadata": {
    "deletable": false,
    "nbgrader": {
     "cell_type": "code",
     "checksum": "c8253881c939b881e706e023490792f0",
     "grade": false,
     "grade_id": "MLPBatch",
     "locked": false,
     "schema_version": 3,
     "solution": true
    }
   },
   "outputs": [],
   "source": [
    "class MLP:\n",
    "    def __init__(self, in_features, hidden_size1, hidden_size2, out_features):\n",
    "        \"\"\"\n",
    "        Args:\n",
    "          in_features (int): Number of inputs which should be equal to xsize.\n",
    "          hidden_size1 (int): Number of units in the first hidden layer.\n",
    "          hidden_size2 (int): Number of units in the second hidden layer.\n",
    "          out_features (int): Number of outputs which should be equal to ysize.\n",
    "        \"\"\"\n",
    "        # YOUR CODE HERE\n",
    "        self.fc1 = Linear(in_features, hidden_size1)\n",
    "        self.activation_fn1 = Tanh()\n",
    "        self.fc2 = Linear(hidden_size1, hidden_size2)\n",
    "        self.activation_fn2 = Tanh()\n",
    "        self.fc3 = Linear(hidden_size2, out_features)\n",
    "\n",
    "\n",
    "    def forward(self, x):\n",
    "        \"\"\"\n",
    "        Args:\n",
    "          x of shape (n_samples, xsize): Inputs.\n",
    "        \n",
    "        Returns:\n",
    "          y of shape (n_samples, ysize): Outputs.\n",
    "        \"\"\"\n",
    "        # YOUR CODE HERE\n",
    "        return self.fc3.forward(self.activation_fn2.forward(self.fc2.forward(self.activation_fn1.forward(self.fc1.forward(x)))))\n",
    "\n",
    "    def backward(self, dy):\n",
    "        \"\"\"\n",
    "        Args:\n",
    "          dy of shape (n_samples, ysize): Gradient of a loss wrt outputs.\n",
    "        \n",
    "        Returns:\n",
    "          dx of shape (n_samples, xsize): Gradient of a loss wrt inputs.\n",
    "        \"\"\"\n",
    "        # YOUR CODE HERE\n",
    "        d_fc3 = self.fc3.backward(dy)\n",
    "        d_act2 = self.activation_fn2.backward(d_fc3)\n",
    "        d_fc2 = self.fc2.backward(d_act2)\n",
    "        d_act1 = self.activation_fn1.backward(d_fc2)\n",
    "        d_fc1 = self.fc1.backward(d_act1)\n",
    "        return d_fc1"
   ]
  },
  {
   "cell_type": "code",
   "execution_count": 25,
   "metadata": {
    "deletable": false,
    "editable": false,
    "nbgrader": {
     "cell_type": "code",
     "checksum": "2652272c9b14ad871a8b564d341ac032",
     "grade": false,
     "grade_id": "cell-07c80ef21983d673",
     "locked": true,
     "schema_version": 3,
     "solution": false,
     "task": false
    }
   },
   "outputs": [
    {
     "name": "stdout",
     "output_type": "stream",
     "text": [
      "Success\n"
     ]
    }
   ],
   "source": [
    "def test_MLP_shapes():\n",
    "    n_samples = 10\n",
    "    x = np.random.randn(n_samples, 1)\n",
    "    mlp_batch = MLP(1, 10, 20, 1)\n",
    "    y = mlp_batch.forward(x)\n",
    "\n",
    "    dy = np.arange(n_samples).reshape((n_samples, 1))   # Dummy gradient of a loss function wrt MLP's outputs.\n",
    "    dx = mlp_batch.backward(dy)\n",
    "    assert dx.shape == x.shape, f\"Bad dx.shape={dx.shape}, x.shape={x.shape}\"\n",
    "    print('Success')\n",
    "\n",
    "test_MLP_shapes()"
   ]
  },
  {
   "cell_type": "code",
   "execution_count": 26,
   "metadata": {
    "deletable": false,
    "editable": false,
    "nbgrader": {
     "cell_type": "code",
     "checksum": "4813bc59781b9ebca195a13448f787de",
     "grade": true,
     "grade_id": "test_MLPBatch",
     "locked": true,
     "points": 0.5,
     "schema_version": 3,
     "solution": false
    }
   },
   "outputs": [],
   "source": [
    "# This cell tests MLP"
   ]
  },
  {
   "cell_type": "code",
   "execution_count": 27,
   "metadata": {
    "deletable": false,
    "editable": false,
    "nbgrader": {
     "cell_type": "code",
     "checksum": "366fa51dd0dde9f63b4a0fd2a856224f",
     "grade": false,
     "grade_id": "cell-91d50afcfcbc324d",
     "locked": true,
     "schema_version": 3,
     "solution": false
    }
   },
   "outputs": [
    {
     "data": {
      "image/png": "[encoded data removed]",
      "text/plain": [
       "<Figure size 432x288 with 1 Axes>"
      ]
     },
     "metadata": {
      "needs_background": "light"
     },
     "output_type": "display_data"
    }
   ],
   "source": [
    "# Let's create an MLP with random weights and compute the derivative wrt the one-dimensional input\n",
    "def test_MLP_derivative():\n",
    "    n_samples = 100\n",
    "    x = np.linspace(-10, 10, n_samples)\n",
    "    mlp_batch = MLP(1, 10, 20, 1)\n",
    "    y = mlp_batch.forward(x.reshape((n_samples, 1))).flatten()\n",
    "\n",
    "    dy_dx = mlp_batch.backward(np.ones((n_samples, 1))).flatten()\n",
    "\n",
    "    fig, ax = plt.subplots()\n",
    "    ax.plot(x, y)\n",
    "    ax.plot(x, dy_dx)\n",
    "    ax.grid(True)\n",
    "    ax.legend(['y', 'dy_dx'])\n",
    "\n",
    "test_MLP_derivative()"
   ]
  },
  {
   "cell_type": "markdown",
   "metadata": {
    "deletable": false,
    "editable": false,
    "nbgrader": {
     "cell_type": "markdown",
     "checksum": "fbb865aabe7b04a79776e7f6fed6750f",
     "grade": false,
     "grade_id": "cell-d5136f1291f0c36a",
     "locked": true,
     "schema_version": 3,
     "solution": false,
     "task": false
    }
   },
   "source": [
    "You can visually inspect whether the computations of the derivative seem correct.\n",
    "\n",
    "More importantly, we can compute the gradient of a loss wrt the parameters of the MLP. The gradients can be used to update the parameters using gradient descent."
   ]
  },
  {
   "cell_type": "markdown",
   "metadata": {
    "deletable": false,
    "editable": false,
    "nbgrader": {
     "cell_type": "markdown",
     "checksum": "651b3f554cfd6e87e29e2791e44c95e0",
     "grade": false,
     "grade_id": "cell-0630dc5ad992327d",
     "locked": true,
     "schema_version": 3,
     "solution": false,
     "task": false
    }
   },
   "source": [
    "## 5. Training MLP network with backpropagation\n",
    "\n",
    "Now let us use our code to train an MLP network."
   ]
  },
  {
   "cell_type": "code",
   "execution_count": 28,
   "metadata": {
    "deletable": false,
    "editable": false,
    "nbgrader": {
     "cell_type": "code",
     "checksum": "ee87bef8654ebd1cc3b570a6d2bb880f",
     "grade": false,
     "grade_id": "cell-bb746d106b37391b",
     "locked": true,
     "schema_version": 3,
     "solution": false,
     "task": false
    }
   },
   "outputs": [
    {
     "data": {
      "text/plain": [
       "[<matplotlib.lines.Line2D at 0x7f1ba99ca280>]"
      ]
     },
     "execution_count": 28,
     "metadata": {},
     "output_type": "execute_result"
    },
    {
     "data": {
      "image/png": "[encoded data removed]",
      "text/plain": [
       "<Figure size 432x288 with 1 Axes>"
      ]
     },
     "metadata": {
      "needs_background": "light"
     },
     "output_type": "display_data"
    }
   ],
   "source": [
    "# Generate toy data\n",
    "def get_data():\n",
    "    np.random.seed(2)\n",
    "    x = np.random.randn(100, 1)\n",
    "    x = np.sort(x, axis=0)\n",
    "\n",
    "    targets = 2 * np.sin(x * 2 * np.pi / 3)\n",
    "    targets = targets + 0.2 * np.random.randn(*targets.shape)\n",
    "\n",
    "    return x, targets\n",
    "\n",
    "x, targets = get_data()\n",
    "# Plot the data\n",
    "fig, ax = plt.subplots(1)\n",
    "ax.plot(x, targets, '.')"
   ]
  },
  {
   "cell_type": "code",
   "execution_count": 29,
   "metadata": {
    "deletable": false,
    "editable": false,
    "nbgrader": {
     "cell_type": "code",
     "checksum": "acbdd59f113750f669bfeec0453e3163",
     "grade": false,
     "grade_id": "cell-b5925a7912f3191c",
     "locked": true,
     "schema_version": 3,
     "solution": false,
     "task": false
    }
   },
   "outputs": [
    {
     "data": {
      "image/png": "[encoded data removed]",
      "text/plain": [
       "<Figure size 432x288 with 1 Axes>"
      ]
     },
     "metadata": {},
     "output_type": "display_data"
    }
   ],
   "source": [
    "# And train an MLP network using gradient descent\n",
    "from IPython import display\n",
    "\n",
    "mlp = MLP(1, 10, 11, 1)  # Create MLP network\n",
    "loss = MSELoss()  # Create loss\n",
    "if not skip_training:  # The trained MLP is not tested\n",
    "    fig, ax = plt.subplots(1)\n",
    "    ax.plot(x, targets, '.')\n",
    "    learning_rate = 0.05\n",
    "    n_epochs = 1 if skip_training else 200\n",
    "    for i in range(n_epochs):\n",
    "        # Forward computations\n",
    "        y = mlp.forward(x)\n",
    "        c = loss.forward(y, targets)\n",
    "\n",
    "        # Backward computations\n",
    "        dy = loss.backward()\n",
    "        dx = mlp.backward(dy)\n",
    "\n",
    "        # Gradient descent update\n",
    "        #learning_rate *= 0.99  # Learning rate annealing\n",
    "        for module in mlp.__dict__.values():\n",
    "            if hasattr(module, 'W'):\n",
    "                module.W = module.W - module.grad_W * learning_rate\n",
    "                module.b = module.b - module.grad_b * learning_rate\n",
    "\n",
    "        ax.clear()\n",
    "        ax.plot(x, targets, '.')\n",
    "        ax.plot(x, y, 'r-')\n",
    "        ax.grid(True)\n",
    "        ax.set_title('Iteration %d/%d' % (i+1, n_epochs))\n",
    "        display.clear_output(wait=True)\n",
    "        display.display(fig)\n",
    "        plt.pause(0.005)\n",
    "    display.clear_output(wait=True)"
   ]
  },
  {
   "cell_type": "markdown",
   "metadata": {
    "deletable": false,
    "editable": false,
    "nbgrader": {
     "cell_type": "markdown",
     "checksum": "778ff4525fa210606bebf85f115fb080",
     "grade": false,
     "grade_id": "cell-ca3ef83db74fc3f9",
     "locked": true,
     "schema_version": 3,
     "solution": false,
     "task": false
    }
   },
   "source": [
    "If you implement the MLP correctly, you will see that the learned function fits the training data."
   ]
  },
  {
   "cell_type": "code",
   "execution_count": 30,
   "metadata": {},
   "outputs": [
    {
     "name": "stdout",
     "output_type": "stream",
     "text": [
      "Do you want to save the model (type yes to confirm)? yes\n",
      "Model saved to 1_mlp_numpy.pkl.\n"
     ]
    }
   ],
   "source": [
    "# Save the model to disk (the pth-files will be submitted automatically together with your notebook)\n",
    "# Set confirm=False if you do not want to be asked for confirmation before saving.\n",
    "if not skip_training:\n",
    "    try:\n",
    "        save = input('Do you want to save the model (type yes to confirm)? ').lower()\n",
    "        if save != 'yes':\n",
    "            print('Model not saved.')\n",
    "        else:\n",
    "            with open('1_mlp_numpy.pkl', 'wb') as file:\n",
    "                pickle.dump(mlp, file)\n",
    "            print('Model saved to 1_mlp_numpy.pkl.')\n",
    "    except:\n",
    "        raise Exception('The notebook should be run or validated with skip_training=True.')"
   ]
  },
  {
   "cell_type": "code",
   "execution_count": 31,
   "metadata": {
    "deletable": false,
    "editable": false,
    "nbgrader": {
     "cell_type": "code",
     "checksum": "a841cc5550cab630b7712d6a929983cc",
     "grade": true,
     "grade_id": "cell-0fc79088a3192cd3",
     "locked": true,
     "points": 0,
     "schema_version": 3,
     "solution": false,
     "task": false
    }
   },
   "outputs": [],
   "source": [
    "if skip_training:\n",
    "    with open('1_mlp_numpy.pkl', 'rb') as file:\n",
    "        mlp = pickle.load(file)\n",
    "        print('File loaded.')"
   ]
  },
  {
   "cell_type": "code",
   "execution_count": 32,
   "metadata": {
    "deletable": false,
    "editable": false,
    "nbgrader": {
     "cell_type": "code",
     "checksum": "aa12fb08bf4a55316cbe45014823532c",
     "grade": true,
     "grade_id": "cell-424d0ffbfe9f90f6",
     "locked": true,
     "points": 1,
     "schema_version": 3,
     "solution": false,
     "task": false
    }
   },
   "outputs": [
    {
     "name": "stdout",
     "output_type": "stream",
     "text": [
      "MSE loss: 0.07085682086585901\n"
     ]
    }
   ],
   "source": [
    "y = mlp.forward(x)\n",
    "c = loss.forward(y, targets)\n",
    "print(f'MSE loss: {c}')\n",
    "assert c < 0.1, 'Poorly trained MLP'"
   ]
  },
  {
   "cell_type": "code",
   "execution_count": 58,
   "metadata": {
    "deletable": false,
    "editable": false,
    "nbgrader": {
     "cell_type": "code",
     "checksum": "b23190edec8868ef4939e0d98e928c33",
     "grade": true,
     "grade_id": "cell-7a6d3244c2914995",
     "locked": true,
     "points": 0,
     "schema_version": 3,
     "solution": false,
     "task": false
    }
   },
   "outputs": [],
   "source": [
    "# This cell is used for grading"
   ]
  },
  {
   "cell_type": "markdown",
   "metadata": {
    "deletable": false,
    "editable": false,
    "nbgrader": {
     "cell_type": "markdown",
     "checksum": "295b11424526bb9dc1ea17bf141803b7",
     "grade": false,
     "grade_id": "cell-841919d678edba70",
     "locked": true,
     "schema_version": 3,
     "solution": false,
     "task": false
    }
   },
   "source": [
    "<div class=\"alert alert-block alert-info\">\n",
    "<b>Conclusions</b>\n",
    "</div>\n",
    "\n",
    "Now you have implemented backpropagation and trained an MLP network using gradient descent.\n",
    "\n",
    "PyTorch makes it easier to create neural networks with different architectures and optimize its parameters using (variants of) gradient descent:\n",
    "* It contains multiple building blocks with forward and backward computations implemented.\n",
    "* It implements optimization methods that work well for neural networks.\n",
    "* Computations can be performed either on GPU or CPU using the same code."
   ]
  }
 ],
 "metadata": {
  "kernelspec": {
   "display_name": "Python 3",
   "language": "python",
   "name": "python3"
  },
  "language_info": {
   "codemirror_mode": {
    "name": "ipython",
    "version": 3
   },
   "file_extension": ".py",
   "mimetype": "text/x-python",
   "name": "python",
   "nbconvert_exporter": "python",
   "pygments_lexer": "ipython3",
   "version": "3.9.5"
  },
  "toc-autonumbering": false,
  "toc-showtags": false,
  "varInspector": {
   "cols": {
    "lenName": 16,
    "lenType": 16,
    "lenVar": 40
   },
   "kernels_config": {
    "python": {
     "delete_cmd_postfix": "",
     "delete_cmd_prefix": "del ",
     "library": "var_list.py",
     "varRefreshCmd": "print(var_dic_list())"
    },
    "r": {
     "delete_cmd_postfix": ") ",
     "delete_cmd_prefix": "rm(",
     "library": "var_list.r",
     "varRefreshCmd": "cat(var_dic_list()) "
    }
   },
   "types_to_exclude": [
    "module",
    "function",
    "builtin_function_or_method",
    "instance",
    "_Feature"
   ],
   "window_display": false
  }
 },
 "nbformat": 4,
 "nbformat_minor": 4
}
